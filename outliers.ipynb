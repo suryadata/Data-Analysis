{
 "cells": [
  {
   "cell_type": "code",
   "execution_count": 43,
   "id": "8f74bab2",
   "metadata": {},
   "outputs": [],
   "source": [
    "import numpy as np\n",
    "import matplotlib.pyplot as plt"
   ]
  },
  {
   "cell_type": "markdown",
   "id": "f29777d6",
   "metadata": {},
   "source": [
    "#### Detect Outliers using Z-Score"
   ]
  },
  {
   "cell_type": "code",
   "execution_count": 44,
   "id": "446c591c",
   "metadata": {},
   "outputs": [],
   "source": [
    "import numpy as np\n",
    "outliers=[]\n",
    "def detect_outliers_Zscore(data):\n",
    "    thresh = 3\n",
    "    mean = np.mean(data)\n",
    "    st_dev = np.std(data)\n",
    "    for i in data:\n",
    "        z = (i-mean)/st_dev\n",
    "        if np.abs(z) > thresh:\n",
    "            outliers.append(i)\n",
    "    return outliers"
   ]
  },
  {
   "cell_type": "code",
   "execution_count": 45,
   "id": "c8a68390",
   "metadata": {
    "scrolled": true
   },
   "outputs": [
    {
     "data": {
      "text/plain": [
       "[101]"
      ]
     },
     "execution_count": 45,
     "metadata": {},
     "output_type": "execute_result"
    }
   ],
   "source": [
    "sample= [15, 101, 18, 7, 13, 16, 11, 21, 5, 15, 10, 9]\n",
    "detect_outliers_Zscore(sample)"
   ]
  },
  {
   "cell_type": "code",
   "execution_count": 46,
   "id": "7636d0d9",
   "metadata": {},
   "outputs": [],
   "source": [
    "sample_outlier=detect_outliers_Zscore(sample)"
   ]
  },
  {
   "cell_type": "markdown",
   "id": "d5d968c6",
   "metadata": {},
   "source": [
    "#### Detect Outliers using IQR"
   ]
  },
  {
   "cell_type": "code",
   "execution_count": 47,
   "id": "d40190bc",
   "metadata": {},
   "outputs": [],
   "source": [
    "outliers=[]\n",
    "def detect_outliers_IQR(data):\n",
    "    data=sorted(data)\n",
    "    q1 = np.percentile(data, 25)\n",
    "    q3 = np.percentile(data, 75)\n",
    "    IQR = q3-q1\n",
    "    lower = q1-(1.5*IQR)\n",
    "    upper = q3 +(1.5*IQR)\n",
    "    for i in data:\n",
    "        if i < lower or i > upper:\n",
    "            outliers.append(i)\n",
    "    return outliers"
   ]
  },
  {
   "cell_type": "code",
   "execution_count": 48,
   "id": "b5e8abae",
   "metadata": {
    "scrolled": true
   },
   "outputs": [
    {
     "data": {
      "text/plain": [
       "[101]"
      ]
     },
     "execution_count": 48,
     "metadata": {},
     "output_type": "execute_result"
    }
   ],
   "source": [
    "detect_outliers_IQR(sample)"
   ]
  },
  {
   "cell_type": "markdown",
   "id": "d84a8025",
   "metadata": {},
   "source": [
    "#### Handling Outliers"
   ]
  },
  {
   "cell_type": "code",
   "execution_count": 50,
   "id": "ffbe50d4",
   "metadata": {},
   "outputs": [],
   "source": [
    "sam2=[12,4,2,1,19,17,13,900,12,11,800]"
   ]
  },
  {
   "cell_type": "code",
   "execution_count": 51,
   "id": "54f437b4",
   "metadata": {
    "scrolled": true
   },
   "outputs": [
    {
     "name": "stdout",
     "output_type": "stream",
     "text": [
      "Outliers from Z-scores method:  [101]\n"
     ]
    }
   ],
   "source": [
    "sample_outliers = detect_outliers_Zscore(sam2)\n",
    "print(\"Outliers from Z-scores method: \", sample_outliers)"
   ]
  },
  {
   "cell_type": "markdown",
   "id": "33fe03b0",
   "metadata": {},
   "source": [
    "#### using Trimming"
   ]
  },
  {
   "cell_type": "code",
   "execution_count": 52,
   "id": "c9a8e07d",
   "metadata": {
    "scrolled": true
   },
   "outputs": [
    {
     "name": "stdout",
     "output_type": "stream",
     "text": [
      "[ 12   4   2   1  19  17  13 900  12  11 800]\n"
     ]
    }
   ],
   "source": [
    "# Trimming\n",
    "for i in sample_outliers:\n",
    "    a = np.delete(sam2, np.where(sam2==i))\n",
    "print(a)\n",
    "# print(len(sample), len(a))"
   ]
  },
  {
   "cell_type": "markdown",
   "id": "5d7faa36",
   "metadata": {},
   "source": [
    "#### Using Percentile Value"
   ]
  },
  {
   "cell_type": "code",
   "execution_count": 53,
   "id": "81dc0cdf",
   "metadata": {},
   "outputs": [
    {
     "name": "stdout",
     "output_type": "stream",
     "text": [
      "7.2 20.700000000000003\n",
      "[ 15.  101.   18.    7.2  13.   16.   11.   21.    7.2  15.   10.    9. ]\n",
      "New array: [15.  20.7 18.   7.2 13.  16.  11.  20.7  7.2 15.  10.   9. ]\n"
     ]
    }
   ],
   "source": [
    "# Computing 10th, 90th percentiles and replacing the outliers\n",
    "tenth_percentile = np.percentile(sample, 10)\n",
    "ninetieth_percentile = np.percentile(sample, 90)\n",
    "print(tenth_percentile, ninetieth_percentile)\n",
    "b = np.where(sample <tenth_percentile, tenth_percentile, sample)\n",
    "print(b)\n",
    "b = np.where(b>ninetieth_percentile, ninetieth_percentile, b)\n",
    "# print(\"Sample:\", sample)\n",
    "print(\"New array:\",b)"
   ]
  },
  {
   "cell_type": "code",
   "execution_count": 54,
   "id": "aec5eb4d",
   "metadata": {
    "scrolled": true
   },
   "outputs": [
    {
     "data": {
      "text/plain": [
       "[15, 101, 18, 7, 13, 16, 11, 21, 5, 15, 10, 9]"
      ]
     },
     "execution_count": 54,
     "metadata": {},
     "output_type": "execute_result"
    }
   ],
   "source": [
    "sample"
   ]
  },
  {
   "cell_type": "markdown",
   "id": "04ae770d",
   "metadata": {},
   "source": [
    "#### Using Median Value"
   ]
  },
  {
   "cell_type": "code",
   "execution_count": 101,
   "id": "d8733f7a",
   "metadata": {},
   "outputs": [
    {
     "data": {
      "text/plain": [
       "[15, 101, 18, 7, 13, 16, 11, 21, 5, 15, 10, 9]"
      ]
     },
     "execution_count": 101,
     "metadata": {},
     "output_type": "execute_result"
    }
   ],
   "source": [
    "sample"
   ]
  },
  {
   "cell_type": "code",
   "execution_count": 119,
   "id": "0477dd46",
   "metadata": {},
   "outputs": [
    {
     "name": "stdout",
     "output_type": "stream",
     "text": [
      "[15, 14.0, 18, 7, 13, 16, 11, 21, 5, 15, 10, 9]\n"
     ]
    }
   ],
   "source": [
    "for i in sample_outlier:\n",
    "    res = [median if item == i  else item for item in sample]\n",
    "print(res)"
   ]
  },
  {
   "cell_type": "code",
   "execution_count": null,
   "id": "1935e9c6",
   "metadata": {},
   "outputs": [],
   "source": [
    "\n"
   ]
  }
 ],
 "metadata": {
  "kernelspec": {
   "display_name": "Python 3 (ipykernel)",
   "language": "python",
   "name": "python3"
  },
  "language_info": {
   "codemirror_mode": {
    "name": "ipython",
    "version": 3
   },
   "file_extension": ".py",
   "mimetype": "text/x-python",
   "name": "python",
   "nbconvert_exporter": "python",
   "pygments_lexer": "ipython3",
   "version": "3.9.7"
  }
 },
 "nbformat": 4,
 "nbformat_minor": 5
}
